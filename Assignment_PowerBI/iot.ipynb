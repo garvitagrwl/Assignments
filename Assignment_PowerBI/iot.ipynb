{
 "cells": [
  {
   "cell_type": "code",
   "execution_count": 0,
   "metadata": {
    "application/vnd.databricks.v1+cell": {
     "cellMetadata": {
      "byteLimit": 2048000,
      "rowLimit": 10000
     },
     "inputWidgets": {},
     "nuid": "4501762b-9842-4b6c-97e9-e51f5f9827be",
     "showTitle": false,
     "tableResultSettingsMap": {},
     "title": ""
    }
   },
   "outputs": [],
   "source": [
    "\n",
    "base_path = \"/Volumes/workspace/iot/iot_catalog/\"\n",
    "\n",
    "# Read CSVs\n",
    "df_users = spark.read.option(\"header\", True).csv(base_path + \"dim_users (1).csv\")\n",
    "df_faculty = spark.read.option(\"header\", True).csv(base_path + \"dim_faculty (1).csv\")\n",
    "df_devices = spark.read.option(\"header\", True).csv(base_path + \"dim_devices.csv\")\n",
    "df_issuance = spark.read.option(\"header\", True).csv(base_path + \"fact_device_issuance (1).csv\")\n",
    "\n",
    "df_users.write.mode(\"overwrite\").format(\"delta\").saveAsTable(\"iot.dim_users\")\n",
    "df_faculty.write.mode(\"overwrite\").format(\"delta\").saveAsTable(\"iot.dim_faculty\")\n",
    "df_devices.write.mode(\"overwrite\").format(\"delta\").saveAsTable(\"iot.dim_devices\")\n",
    "df_issuance.write.mode(\"overwrite\").format(\"delta\").saveAsTable(\"iot.fact_device_issuance\")\n"
   ]
  }
 ],
 "metadata": {
  "application/vnd.databricks.v1+notebook": {
   "computePreferences": null,
   "dashboards": [],
   "environmentMetadata": {
    "base_environment": "",
    "environment_version": "2"
   },
   "inputWidgetPreferences": null,
   "language": "python",
   "notebookMetadata": {
    "pythonIndentUnit": 4
   },
   "notebookName": "iot",
   "widgets": {}
  },
  "language_info": {
   "name": "python"
  }
 },
 "nbformat": 4,
 "nbformat_minor": 0
}